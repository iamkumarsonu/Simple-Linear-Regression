{
 "cells": [
  {
   "cell_type": "code",
   "execution_count": 16,
   "id": "256476e7-bf1e-493f-9354-5e857d8c82ac",
   "metadata": {},
   "outputs": [],
   "source": [
    "Xtrain = [1,2,3,4,5,6,7]\n",
    "Ytrain = [2,4,6,8,10,12,14]\n",
    "class SimpleLinearRegressionOLS:\n",
    "    def __init__(self):\n",
    "        self.m = None  # slope\n",
    "        self.b = None  # intercept\n",
    "\n",
    "    def fit(self, Xtrain, Ytrain):\n",
    "        # Calculate the slope (m) using the OLS formula\n",
    "        self.m = np.dot((Xtrain - np.mean(Xtrain)), (Ytrain - np.mean(Ytrain))) / np.dot((Xtrain - np.mean(Xtrain)), (Xtrain - np.mean(Xtrain)))\n",
    "        # Calculate the intercept (b)\n",
    "        self.b = np.mean(Ytrain) - self.m * np.mean(Xtrain)\n",
    "\n",
    "    def predict(self, Xtrain):\n",
    "        # Return predictions based on the learned model\n",
    "        return self.m * Xtrain + self.b"
   ]
  },
  {
   "cell_type": "code",
   "execution_count": 19,
   "id": "5b54ddac-16c1-4c5f-a84f-2015a58cc5cc",
   "metadata": {},
   "outputs": [],
   "source": [
    "model = SimpleLinearRegressionOLS()\n",
    "model.fit(Xtrain,Ytrain)"
   ]
  },
  {
   "cell_type": "code",
   "execution_count": 22,
   "id": "c6ba705f-3593-4ea0-8fdd-aeed773c512b",
   "metadata": {},
   "outputs": [
    {
     "data": {
      "text/plain": [
       "array([ 2.,  4.,  6.,  8., 10., 14.])"
      ]
     },
     "execution_count": 22,
     "metadata": {},
     "output_type": "execute_result"
    }
   ],
   "source": [
    "Xtrain = np.array([1, 2, 3, 4, 5,7])\n",
    "predictions = model.predict(Xtrain)\n",
    "predictions"
   ]
  },
  {
   "cell_type": "code",
   "execution_count": null,
   "id": "564bbadc-d93e-4a97-b18a-86d1cd8e7ce5",
   "metadata": {},
   "outputs": [],
   "source": []
  }
 ],
 "metadata": {
  "kernelspec": {
   "display_name": "Python 3 (ipykernel)",
   "language": "python",
   "name": "python3"
  },
  "language_info": {
   "codemirror_mode": {
    "name": "ipython",
    "version": 3
   },
   "file_extension": ".py",
   "mimetype": "text/x-python",
   "name": "python",
   "nbconvert_exporter": "python",
   "pygments_lexer": "ipython3",
   "version": "3.9.0"
  }
 },
 "nbformat": 4,
 "nbformat_minor": 5
}
